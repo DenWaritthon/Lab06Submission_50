{
 "cells": [
  {
   "attachments": {},
   "cell_type": "markdown",
   "metadata": {},
   "source": [
    "## Set Up"
   ]
  },
  {
   "cell_type": "code",
   "execution_count": 1,
   "metadata": {},
   "outputs": [
    {
     "name": "stdout",
     "output_type": "stream",
     "text": [
      "pygame 2.3.0 (SDL 2.24.2, Python 3.9.7)\n",
      "Hello from the pygame community. https://www.pygame.org/contribute.html\n"
     ]
    }
   ],
   "source": [
    "import sys \n",
    "import pygame as pg\n",
    "import PygameClass as pgclass"
   ]
  },
  {
   "cell_type": "code",
   "execution_count": 2,
   "metadata": {},
   "outputs": [],
   "source": [
    "pg.init()\n",
    "win_x, win_y = 800, 480"
   ]
  },
  {
   "attachments": {},
   "cell_type": "markdown",
   "metadata": {},
   "source": [
    "## สร้าง Class Rectangle"
   ]
  },
  {
   "cell_type": "code",
   "execution_count": 3,
   "metadata": {},
   "outputs": [],
   "source": [
    "run = True\n",
    "screen = pg.display.set_mode((win_x, win_y))\n",
    "firstObject = pgclass.Rectangle(20,20,100,100) # สร้าง Object จากคลาส Rectangle ขึ้นมา\n",
    "\n",
    "while(run):\n",
    "    screen.fill((255, 255, 255))\n",
    "    firstObject.draw(screen) # ใส่ screen เข้าไปด้วยเพราะว่าคำสั่ง pg.draw.rect จะเป็นจะต้องระบุระนาบว่าต้องการสร้างรูปบนระนาบใด\n",
    "    pg.display.update()\n",
    "    \n",
    "    for event in pg.event.get():\n",
    "        if event.type == pg.QUIT:\n",
    "            pg.quit()\n",
    "            run = False"
   ]
  },
  {
   "attachments": {},
   "cell_type": "markdown",
   "metadata": {},
   "source": [
    "## สร้าง Button"
   ]
  },
  {
   "cell_type": "code",
   "execution_count": 4,
   "metadata": {},
   "outputs": [],
   "source": [
    "run = True\n",
    "screen = pg.display.set_mode((win_x, win_y))\n",
    "btn = pgclass.Button(20,20,100,100) # สร้าง Object จากคลาส Button ขึ้นมา\n",
    "\n",
    "while(run):\n",
    "    screen.fill((255, 255, 255))\n",
    "    if btn.isMouseOn():\n",
    "        btn.w = 200\n",
    "        btn.h = 300\n",
    "    else:\n",
    "        btn.w = 100\n",
    "        btn.h = 100\n",
    "    btn.draw(screen)\n",
    "    \n",
    "    pg.display.update()\n",
    "    for event in pg.event.get():\n",
    "        if event.type == pg.QUIT:\n",
    "            pg.quit()\n",
    "            run = False"
   ]
  },
  {
   "attachments": {},
   "cell_type": "markdown",
   "metadata": {},
   "source": [
    "## Exercise 1\n",
    "จงสร้างปุ่มสีแดง เมื่อเอาเมาส์ไปวางบนปุ่มจะแสดงสีเทา แต่ถ้ากดค้างบนปุ่มจะแสดงสีม่วง (แก้ไข class ได้)\n",
    "\n"
   ]
  },
  {
   "cell_type": "code",
   "execution_count": 5,
   "metadata": {},
   "outputs": [],
   "source": [
    "run = True\n",
    "screen = pg.display.set_mode((win_x, win_y))\n",
    "btn = pgclass.Button(20,20,100,100,[255,0,0]) # สร้าง Object จากคลาส Button ขึ้นมา\n",
    "# btn.setColor([255,0,0])\n",
    "\n",
    "while(run):\n",
    "    screen.fill((255, 255, 255))\n",
    "    if btn.isMouseOn():\n",
    "        if btn.isMouseClick():\n",
    "            # btn.setColor([255,0,0])\n",
    "            btn.setColor([153,153,255])\n",
    "        else:\n",
    "            btn.setColor([192,192,192])\n",
    "    else:\n",
    "        btn.setColor('red')\n",
    "    btn.draw(screen)\n",
    "    \n",
    "    pg.display.update()\n",
    "    for event in pg.event.get():\n",
    "        if event.type == pg.QUIT:\n",
    "            pg.quit()\n",
    "            run = False"
   ]
  },
  {
   "attachments": {},
   "cell_type": "markdown",
   "metadata": {},
   "source": [
    "## Pygame Event [Keyboard input]"
   ]
  },
  {
   "cell_type": "code",
   "execution_count": 6,
   "metadata": {},
   "outputs": [
    {
     "name": "stdout",
     "output_type": "stream",
     "text": [
      "Key D down\n",
      "Key A up\n",
      "Key D down\n",
      "Key A up\n",
      "Key D down\n",
      "Key A up\n",
      "Key D down\n",
      "Key A up\n"
     ]
    }
   ],
   "source": [
    "run = True\n",
    "screen = pg.display.set_mode((win_x, win_y))\n",
    "\n",
    "while(run):\n",
    "    screen.fill((255, 255, 255))  \n",
    "\n",
    "    pg.display.update()\n",
    "\n",
    "    for event in pg.event.get():\n",
    "        if event.type == pg.QUIT:\n",
    "            pg.quit()\n",
    "            run = False\n",
    "\n",
    "        if event.type == pg.KEYDOWN and event.key == pg.K_d: #ปุ่มถูกกดลงและเป็นปุ่ม D\n",
    "            print(\"Key D down\")\n",
    "        if event.type == pg.KEYUP and event.key == pg.K_a: #ปุ่มถูกปล่อยและเป็นปุ่ม A\n",
    "            print(\"Key A up\")"
   ]
  },
  {
   "attachments": {},
   "cell_type": "markdown",
   "metadata": {},
   "source": [
    "## Exercise 2\n",
    "ให้สร้างกล่องสี่เหลี่ยมขนาด 100*100 ที่เคลื่อนที่ในหน้าจอได้ด้วยการกดปุ่ม W A S D"
   ]
  },
  {
   "cell_type": "code",
   "execution_count": 8,
   "metadata": {},
   "outputs": [],
   "source": [
    "run = True\n",
    "step = 5\n",
    "size_x = 100\n",
    "size_y = 100\n",
    "screen = pg.display.set_mode((win_x, win_y))\n",
    "box = pgclass.Rectangle(350,195,size_x,size_y) \n",
    "\n",
    "while(run):\n",
    "    screen.fill((255, 255, 255))\n",
    "    box.setColor('green')\n",
    "    box.draw(screen) \n",
    "\n",
    "    pg.display.update()\n",
    "\n",
    "    for event in pg.event.get():\n",
    "        if event.type == pg.QUIT:\n",
    "            pg.quit()\n",
    "            run = False\n",
    "\n",
    "        if event.type == pg.KEYDOWN and event.key == pg.K_d:\n",
    "            if (box.x + step +size_x <= win_x):\n",
    "                box.posUpdate(step,0)\n",
    "                # print(\"Key D down , x = \",box.x)\n",
    "        if event.type == pg.KEYDOWN and event.key == pg.K_a:\n",
    "            if (box.x - step >= 0):\n",
    "                box.posUpdate(-1*step,0)\n",
    "                # print(\"Key A down , x = \",box.x)\n",
    "        if event.type == pg.KEYDOWN and event.key == pg.K_w:\n",
    "            if (box.y - step >= 0):\n",
    "                box.posUpdate(0,-1*step)\n",
    "                # print(\"Key W down , y = \",box.y)\n",
    "        if event.type == pg.KEYDOWN and event.key == pg.K_s:\n",
    "            if (box.y + step + size_y <= win_y):\n",
    "                box.posUpdate(0,step)\n",
    "                # print(\"Key S down , y = \",box.y)"
   ]
  },
  {
   "attachments": {},
   "cell_type": "markdown",
   "metadata": {},
   "source": [
    "smooth move"
   ]
  },
  {
   "cell_type": "code",
   "execution_count": 9,
   "metadata": {},
   "outputs": [],
   "source": [
    "run = True\n",
    "step = 5\n",
    "size_x = 100\n",
    "size_y = 100\n",
    "screen = pg.display.set_mode((win_x, win_y))\n",
    "box = pgclass.Rectangle(350,195,size_x,size_y) \n",
    "\n",
    "while(run):\n",
    "    screen.fill((255, 255, 255))\n",
    "\n",
    "    keys = pg.key.get_pressed()\n",
    "    \n",
    "    if keys[pg.K_w]:\n",
    "        if (box.y - step >= 0):\n",
    "            box.posUpdate(0,-1*step)\n",
    "\n",
    "    if keys[pg.K_s]:\n",
    "        if (box.y + step + size_y <= win_y):\n",
    "            box.posUpdate(0,step)\n",
    "\n",
    "    if keys[pg.K_a]:\n",
    "        if (box.x - step >= 0):\n",
    "            box.posUpdate(-1*step,0)\n",
    "\n",
    "    if keys[pg.K_d]:\n",
    "        if (box.x + step +size_x <= win_x):\n",
    "            box.posUpdate(step,0)\n",
    "            \n",
    "    pg.time.delay(10)\n",
    "    box.setColor('green')\n",
    "    box.draw(screen) \n",
    "\n",
    "    pg.display.update()\n",
    "\n",
    "    for event in pg.event.get():\n",
    "        if event.type == pg.QUIT:\n",
    "            pg.quit()\n",
    "            run = False\n"
   ]
  },
  {
   "attachments": {},
   "cell_type": "markdown",
   "metadata": {},
   "source": [
    "## UI [Text display]"
   ]
  },
  {
   "cell_type": "code",
   "execution_count": 3,
   "metadata": {},
   "outputs": [],
   "source": [
    "run = True\n",
    "screen = pg.display.set_mode((win_x, win_y))\n",
    "font = pg.font.Font(None, 32) # font and fontsize\n",
    "text = font.render('FRA 142', True, 'white', (0,0,0)) # (text,is smooth?,letter color,background color)\n",
    "textRect = text.get_rect() # text size\n",
    "textRect.center = (win_x // 2, win_y // 2)\n",
    "\n",
    "while(run):\n",
    "    \n",
    "    screen.blit(text, textRect)\n",
    "    pg.display.update()    \n",
    "    \n",
    "    for event in pg.event.get():\n",
    "        if event.type == pg.QUIT:\n",
    "            pg.quit()\n",
    "            run = False"
   ]
  },
  {
   "attachments": {},
   "cell_type": "markdown",
   "metadata": {},
   "source": [
    "## UI [InputBox]"
   ]
  },
  {
   "cell_type": "code",
   "execution_count": 4,
   "metadata": {},
   "outputs": [
    {
     "name": "stdout",
     "output_type": "stream",
     "text": [
      "sdsc\n",
      "3f4ersf\n"
     ]
    }
   ],
   "source": [
    "pg.init()\n",
    "win_x, win_y = 800, 480\n",
    "screen = pg.display.set_mode((win_x, win_y))\n",
    "\n",
    "COLOR_INACTIVE = pg.Color('lightskyblue3') # ตั้งตัวแปรให้เก็บค่าสี เพื่อนำไปใช้เติมสีให้กับกล่องข้อความตอนที่คลิกที่กล่องนั้นๆอยู่\n",
    "COLOR_ACTIVE = pg.Color('red') #('dodgerblue2')     # ^^^\n",
    "COLOR_TEXT = pg.Color('black')\n",
    "FONT = pg.font.Font(None, 32)\n",
    "\n",
    "input_box1 = pgclass.InputBoxExample(100, 100, 140, 50,COLOR_INACTIVE,COLOR_TEXT,FONT) # สร้าง InputBox1\n",
    "input_box2 = pgclass.InputBoxExample(100, 300, 140, 50,COLOR_INACTIVE,COLOR_TEXT,FONT) # สร้าง InputBox2\n",
    "input_boxes = [input_box1, input_box2] # เก็บ InputBox ไว้ใน list เพื่อที่จะสามารถนำไปเรียกใช้ได้ง่าย\n",
    "run = True\n",
    "\n",
    "while run:\n",
    "    screen.fill((255, 255, 255))\n",
    "    for box in input_boxes: # ทำการเรียก InputBox ทุกๆตัว โดยการ Loop เข้าไปยัง list ที่เราเก็บค่า InputBox ไว้\n",
    "        box.update() # เรียกใช้ฟังก์ชัน update() ของ InputBox\n",
    "        box.draw(screen) # เรียกใช้ฟังก์ชัน draw() ของ InputBox เพื่อทำการสร้างรูปบน Screen\n",
    "    \n",
    "    pg.time.delay(1)\n",
    "    pg.display.update()\n",
    "   \n",
    "    for event in pg.event.get():\n",
    "        for box in input_boxes:\n",
    "            box.handle_event(event,COLOR_ACTIVE)\n",
    "        if event.type == pg.QUIT:\n",
    "            pg.quit()\n",
    "            run = False"
   ]
  },
  {
   "attachments": {},
   "cell_type": "markdown",
   "metadata": {},
   "source": [
    "## Final Exercise"
   ]
  },
  {
   "cell_type": "code",
   "execution_count": 2,
   "metadata": {},
   "outputs": [],
   "source": [
    "pg.init()\n",
    "win_x, win_y = 800, 480\n",
    "screen = pg.display.set_mode((win_x, win_y))\n",
    "\n",
    "COLOR_INACTIVE = pg.Color('lightskyblue3') \n",
    "COLOR_ACTIVE = pg.Color('dodgerblue2') \n",
    "COLOR_TEXT = pg.Color('black')\n",
    "FONT = pg.font.Font('E:/fornt/THSarabunNew/THSarabunNew.ttf', 32)\n",
    "\n",
    "input_Firstname = pgclass.InputBox(300, 50, 140, 50,COLOR_INACTIVE,COLOR_TEXT,FONT) \n",
    "input_Lastname = pgclass.InputBox(300, 150, 140, 50,COLOR_INACTIVE,COLOR_TEXT,FONT)\n",
    "input_Age = pgclass.InputBox(300, 250, 140, 50,COLOR_INACTIVE,COLOR_TEXT,FONT) \n",
    "input_boxes = [input_Firstname, input_Lastname,input_Age]\n",
    "\n",
    "submit = pgclass.Button(270,320,100,50,'submit')\n",
    "reset = pgclass.Button(420,320,100,50,'reset')\n",
    "submitState = False\n",
    "resetState = False\n",
    "\n",
    "txtFirstname = FONT.render('Firstname', True, 'black')\n",
    "txtLastname = FONT.render('Lastname', True, 'black')\n",
    "txtAge = FONT.render('Age', True, 'black')\n",
    "\n",
    "run = True\n",
    "txt =[]\n",
    "while run:\n",
    "    screen.fill((255, 255, 255))\n",
    "    for box in input_boxes:\n",
    "        box.update()\n",
    "        box.draw(screen)\n",
    "    # submit.setColor([153,255,204])\n",
    "    # reset.setColor([255,204,204])\n",
    "    submit.textButton(screen,FONT)\n",
    "    reset.textButton(screen,FONT)\n",
    "\n",
    "    screen.blit(txtFirstname, (180,50))\n",
    "    screen.blit(txtLastname, (180,150))\n",
    "    screen.blit(txtAge, (220,250))\n",
    "\n",
    "    if submit.isMouseOn() and submitState == False:\n",
    "        submit.setColor([204,229,255])\n",
    "        if submit.isMouseClick():\n",
    "            submitState = True\n",
    "            for boxtext in input_boxes:\n",
    "                txt.append(boxtext.readText())\n",
    "            # for i in txt:\n",
    "            #     print(i)\n",
    "    else:\n",
    "        submit.setColor([153,255,204])\n",
    "\n",
    "    if reset.isMouseOn() and resetState == False:\n",
    "        reset.setColor([204,229,255])\n",
    "        if reset.isMouseClick():\n",
    "            resetState = True\n",
    "    else:\n",
    "        reset.setColor([255,204,204])\n",
    "\n",
    "    if submitState:\n",
    "        text = FONT.render('Hello '+ str(txt[0]) + ' ' + str(txt[1]) + '! You are ' + str(txt[2]) + ' years old.', True, 'black')\n",
    "        screen.blit(text,(200,400))\n",
    "\n",
    "    if resetState:\n",
    "        for boxtext in input_boxes:\n",
    "            boxtext.resetText()\n",
    "        txt=[]\n",
    "        resetState = False\n",
    "        submitState = False\n",
    "\n",
    "\n",
    "    pg.time.delay(1)\n",
    "    pg.display.update()\n",
    "    for event in pg.event.get():\n",
    "        for box in input_boxes:\n",
    "            if box == input_Age:\n",
    "                    box.handle_event(event,COLOR_ACTIVE,1)\n",
    "            else:\n",
    "                box.handle_event(event,COLOR_ACTIVE)\n",
    "        if event.type == pg.QUIT:\n",
    "            pg.quit()\n",
    "            run = False\n"
   ]
  }
 ],
 "metadata": {
  "kernelspec": {
   "display_name": "base",
   "language": "python",
   "name": "python3"
  },
  "language_info": {
   "codemirror_mode": {
    "name": "ipython",
    "version": 3
   },
   "file_extension": ".py",
   "mimetype": "text/x-python",
   "name": "python",
   "nbconvert_exporter": "python",
   "pygments_lexer": "ipython3",
   "version": "3.9.7"
  },
  "orig_nbformat": 4
 },
 "nbformat": 4,
 "nbformat_minor": 2
}
